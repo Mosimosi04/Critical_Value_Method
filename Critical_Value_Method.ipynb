{
 "cells": [
  {
   "cell_type": "code",
   "execution_count": null,
   "metadata": {},
   "outputs": [],
   "source": [
    "\"\"\"\n",
    "(1) 輸入4個引數：雙尾檢定(例如雙尾=\"T\"，左尾=\"L\"，右尾=\"R\")、alpha(例如0.05)、自由度(例如36.5)及t統計量(例如0.5664)\n",
    "(2) 產生t分配圖，圖表必須清楚標示出拒絕域(深色)、臨界值，及t統計量的位置。\n",
    "\"\"\""
   ]
  },
  {
   "cell_type": "code",
   "execution_count": 20,
   "metadata": {},
   "outputs": [],
   "source": [
    "import scipy.stats as stats\n",
    "import matplotlib.pyplot as plt\n",
    "import numpy as np\n",
    "\n",
    "def t_test(hypothesis, alpha, df, t_stat):\n",
    "    # 計算臨界值\n",
    "    if hypothesis == \"T\":\n",
    "        crit_val = stats.t.ppf(1 - alpha/2, df)\n",
    "        left_crit_val = -crit_val\n",
    "        right_crit_val = crit_val\n",
    "    elif hypothesis == \"L\":\n",
    "        crit_val = stats.t.ppf(alpha, df)\n",
    "        left_crit_val = -np.inf\n",
    "        right_crit_val = crit_val\n",
    "    elif hypothesis == \"R\":\n",
    "        crit_val = stats.t.ppf(1 - alpha, df)\n",
    "        left_crit_val = crit_val\n",
    "        right_crit_val = np.inf\n",
    "\n",
    "    # 繪製t分配圖\n",
    "    x = np.linspace(-5, 5, 1000)\n",
    "    y = stats.t.pdf(x, df)\n",
    "    fig, ax = plt.subplots(figsize=(8, 4))\n",
    "    ax.plot(x, y, 'k', linewidth=2)\n",
    "    ax.axvline(left_crit_val, color='red', linestyle='--', linewidth=2)\n",
    "    ax.axvline(right_crit_val, color='red', linestyle='--', linewidth=2)\n",
    "    ax.axvline(t_stat, color='green', linewidth=2)\n",
    "    \n",
    "    # 自搞拒絕域(深色)及臨界值、統計量數值顯示\n",
    "    if hypothesis == \"T\":\n",
    "        ax.fill_between(x, 0, y, where=(x<=left_crit_val) | (x>=right_crit_val), color='gray', alpha=0.5)\n",
    "        ax.text(left_crit_val, 0.43, f'critical value={-crit_val:.3f}', ha='center')\n",
    "        ax.text(right_crit_val, 0.43, f'critical value={crit_val:.3f}', ha='center')\n",
    "        ax.text(t_stat, 0.2, f't_stat={t_stat:.4f}', ha='center', color='green')\n",
    "    elif hypothesis == \"L\":\n",
    "        ax.fill_between(x, 0, y, where=(x<=right_crit_val), color='gray', alpha=0.5)\n",
    "        ax.text(right_crit_val, 0.43, f'critical value={crit_val:.3f}', ha='center')\n",
    "        ax.text(t_stat, 0.35, f't_stat={t_stat:.4f}', ha='center', color='green')\n",
    "    elif hypothesis == \"R\":\n",
    "        ax.fill_between(x, 0, y, where=(x>=left_crit_val), color='gray', alpha=0.5)\n",
    "        ax.text(left_crit_val, 0.43, f'critical value={-crit_val:.3f}', ha='center')\n",
    "        ax.text(t_stat, 0.35, f't_stat={t_stat:.4f}', ha='center', color='green')\n",
    "        \n",
    "    ax.set_xlim(-5, 5)\n",
    "    ax.set_ylim(0, 0.45)\n",
    "    ax.set_xlabel('t')\n",
    "    ax.set_ylabel('Density')\n",
    "    ax.set_title('t Distribution')\n",
    "    plt.show()\n",
    "\n",
    "    # 檢定結果\n",
    "    if hypothesis == \"T\":\n",
    "        if t_stat < left_crit_val or t_stat > right_crit_val:\n",
    "            print(\"Reject Ho.\")\n",
    "        else:\n",
    "            print(\"Fail to reject Ho.\")\n",
    "    elif hypothesis == \"L\":\n",
    "        if t_stat < right_crit_val:\n",
    "            print(\"Reject Ho.\")\n",
    "        else:\n",
    "            print(\"Fail to reject Ho.\")\n",
    "    elif hypothesis == \"R\":\n",
    "        if t_stat > left_crit_val:\n",
    "            print(\"Reject Ho.\")\n",
    "        else:\n",
    "            print(\"Fail to reject Ho.\")\n"
   ]
  },
  {
   "cell_type": "code",
   "execution_count": null,
   "metadata": {},
   "outputs": [],
   "source": [
    "t_test(hypothesis=\"T\", alpha=0.05, df=36.5, t_stat=0.5664)"
   ]
  },
  {
   "cell_type": "code",
   "execution_count": null,
   "metadata": {},
   "outputs": [],
   "source": [
    "# 故意弄顯著的案例，把bias調整為0.1\n",
    "xx= 0.1/0.0459\n",
    "t_test(hypothesis=\"T\", alpha=0.05, df=36.5, t_stat=xx)"
   ]
  },
  {
   "cell_type": "code",
   "execution_count": null,
   "metadata": {},
   "outputs": [],
   "source": [
    "# 設定引數值，bias 獨立樣本法案例\n",
    "t_test(hypothesis=\"T\", alpha=0.05, df=14, t_stat=0.1224)"
   ]
  },
  {
   "cell_type": "code",
   "execution_count": 21,
   "metadata": {},
   "outputs": [
    {
     "data": {
      "image/png": "[encoded data removed]",
      "text/plain": [
       "<matplotlib.figure.Figure at 0x2609b23f320>"
      ]
     },
     "metadata": {},
     "output_type": "display_data"
    },
    {
     "name": "stdout",
     "output_type": "stream",
     "text": [
      "Reject Ho.\n"
     ]
    }
   ],
   "source": [
    "# 設定引數值，bias 獨立樣本法案例\n",
    "# 故意弄顯著的案例，把bias調整為0.13\n",
    "xx= 0.13/0.05474\n",
    "t_test(hypothesis=\"T\", alpha=0.05, df=14, t_stat=xx)"
   ]
  },
  {
   "cell_type": "code",
   "execution_count": null,
   "metadata": {},
   "outputs": [],
   "source": []
  }
 ],
 "metadata": {
  "kernelspec": {
   "display_name": "Python 3",
   "language": "python",
   "name": "python3"
  },
  "language_info": {
   "codemirror_mode": {
    "name": "ipython",
    "version": 3
   },
   "file_extension": ".py",
   "mimetype": "text/x-python",
   "name": "python",
   "nbconvert_exporter": "python",
   "pygments_lexer": "ipython3",
   "version": "3.6.4"
  }
 },
 "nbformat": 4,
 "nbformat_minor": 2
}
